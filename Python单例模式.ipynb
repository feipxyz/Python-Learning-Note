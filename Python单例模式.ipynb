{
 "cells": [
  {
   "cell_type": "code",
   "execution_count": 2,
   "metadata": {},
   "outputs": [],
   "source": [
    "import threading"
   ]
  },
  {
   "cell_type": "markdown",
   "metadata": {},
   "source": [
    "第一种方法，使用 `__new__`"
   ]
  },
  {
   "cell_type": "code",
   "execution_count": 13,
   "metadata": {},
   "outputs": [],
   "source": [
    "class Singleton(object):\n",
    "    # 防止多线程时生成多个实例\n",
    "    _instance_lock = threading.Lock()\n",
    "    # 只能初始化一次\n",
    "    _init_flag = True\n",
    "    def __init__(self, name):\n",
    "        if Singleton._init_flag:\n",
    "            self.name = name\n",
    "            Singleton._init_flag = False\n",
    "            \n",
    "        \n",
    "    def __new__(cls, *args, **kwargs):\n",
    "        if not hasattr(cls, '_instance'):\n",
    "            with cls._instance_lock:\n",
    "                if not hasattr(cls, '_instance'):\n",
    "                    cls._instance = super().__new__(cls)\n",
    "        return cls._instance"
   ]
  },
  {
   "cell_type": "code",
   "execution_count": 14,
   "metadata": {},
   "outputs": [
    {
     "data": {
      "text/plain": [
       "(140212701520168, 140212701520168)"
      ]
     },
     "execution_count": 14,
     "metadata": {},
     "output_type": "execute_result"
    }
   ],
   "source": [
    "a = Singleton(\"bob\")\n",
    "b = Singleton(\"tom\")\n",
    "id(a), id(b)"
   ]
  },
  {
   "cell_type": "markdown",
   "metadata": {},
   "source": [
    "第二种方法，使用装饰器"
   ]
  },
  {
   "cell_type": "code",
   "execution_count": 16,
   "metadata": {},
   "outputs": [],
   "source": [
    "def Singleton(cls):\n",
    "    _instance = {}\n",
    "    \n",
    "    def _singleton(*args, **kwargs):\n",
    "        if cls not in _instance:\n",
    "            with cls._instance_lock:\n",
    "                if cls not in _instance:\n",
    "                    _instance[cls] = cls(*args, **kwargs)\n",
    "        return _instance[cls]\n",
    "    return _singleton\n",
    "\n",
    "@Singleton\n",
    "class Name(object):\n",
    "    _instance_lock = threading.Lock()\n",
    "    def __init__(self, name):\n",
    "        self.name = name"
   ]
  },
  {
   "cell_type": "code",
   "execution_count": 17,
   "metadata": {},
   "outputs": [
    {
     "data": {
      "text/plain": [
       "(140212701522016, 140212701522016)"
      ]
     },
     "execution_count": 17,
     "metadata": {},
     "output_type": "execute_result"
    }
   ],
   "source": [
    "a = Name('tom')\n",
    "b = Name('bob')\n",
    "id(a), id(b)"
   ]
  }
 ],
 "metadata": {
  "kernelspec": {
   "display_name": "Python 3",
   "language": "python",
   "name": "python3"
  },
  "language_info": {
   "codemirror_mode": {
    "name": "ipython",
    "version": 3
   },
   "file_extension": ".py",
   "mimetype": "text/x-python",
   "name": "python",
   "nbconvert_exporter": "python",
   "pygments_lexer": "ipython3",
   "version": "3.6.5"
  }
 },
 "nbformat": 4,
 "nbformat_minor": 2
}
