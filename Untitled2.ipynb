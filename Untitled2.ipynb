{
 "cells": [
  {
   "cell_type": "markdown",
   "metadata": {},
   "source": [
    "# 继承抽象基类 实现一个洗牌功能"
   ]
  },
  {
   "cell_type": "code",
   "execution_count": 1,
   "metadata": {},
   "outputs": [],
   "source": [
    "import collections"
   ]
  },
  {
   "cell_type": "markdown",
   "metadata": {},
   "source": [
    "我们明确把 FrenchDeck 声明为 collections.MutableSequence 这个抽象基类的子类。"
   ]
  },
  {
   "cell_type": "code",
   "execution_count": 2,
   "metadata": {},
   "outputs": [],
   "source": [
    "Card = collections.namedtuple('Card', ['rank', 'suit'])"
   ]
  },
  {
   "cell_type": "code",
   "execution_count": 7,
   "metadata": {},
   "outputs": [],
   "source": [
    "class FrenchDeck(collections.MutableSequence):\n",
    "    # 2.3.4...10.J.Q.K.A\n",
    "    ranks = [str(n) for n in range(2, 11)] + list('JQKA')\n",
    "    # 四种花色\n",
    "    suits = 'spades diamonds clubs hearts'.split()\n",
    "    \n",
    "    def __init__(self):\n",
    "        self._cards = [Card(rank, suit) for suit in self.suits for rank in self.ranks]\n",
    "    \n",
    "    def __len__(self):\n",
    "        return len(self._cards)\n",
    "    \n",
    "    def __getitem__(self, pos):\n",
    "        return self._cards[pos]\n",
    "    \n",
    "    def __setitem__(self, pos, value):\n",
    "        self._cards[pos] = value\n",
    "        \n",
    "    def __delitem__(self, pos): # (1)\n",
    "        del self._cards[pos]\n",
    "        \n",
    "    def insert(self, pos, value): # (2)\n",
    "        self._cards.insert(pos, value)"
   ]
  },
  {
   "cell_type": "markdown",
   "metadata": {},
   "source": [
    "(1). 继承 MutableSequence 的类必须实现 __delitem__ 方法，这是 MutableSequence 类的一个抽象方法。\n",
    "\n",
    "(2). 此外，还要实现 insert 方法，这是 MutableSequence 类的第三个抽象方法。"
   ]
  },
  {
   "cell_type": "markdown",
   "metadata": {},
   "source": [
    "# 定义一个抽象基类"
   ]
  },
  {
   "cell_type": "markdown",
   "metadata": {},
   "source": [
    "除非高级python开发者，否则不要自己定义抽象基类！！！\n",
    "\n",
    "但作为说明，我们斗胆定义一个抽象基类。"
   ]
  },
  {
   "cell_type": "code",
   "execution_count": 9,
   "metadata": {},
   "outputs": [],
   "source": [
    "import abc\n",
    "\n",
    "class Tombola(abc.ABC):\n",
    "    \n",
    "    @abc.abstractmethod\n",
    "    def load(self, iterable):\n",
    "        \"\"\"从可迭代对象中添加元素\"\"\"\n",
    "        \n",
    "    @abc.abstractmethod\n",
    "    def pick(self):\n",
    "        \"\"\"随机删除元素，然后将其返回\n",
    "        如果实例为空，抛出LookupError\n",
    "        \"\"\"\n",
    "    \n",
    "    def loaded(self):\n",
    "        \"\"\"如果至少有一个元素，返回true，否则返回false\"\"\"\n",
    "        return bool(self.inspect())\n",
    "    \n",
    "    def inspect(self):\n",
    "        \"\"\"返回一个有序元祖，由当前元素构成\"\"\"\n",
    "        items = []\n",
    "        while True:\n",
    "            try:\n",
    "                items.append(self.pick())\n",
    "            except LookupError:\n",
    "                break\n",
    "        self.load(items)\n",
    "        return tuple(sorted(items))"
   ]
  },
  {
   "cell_type": "code",
   "execution_count": null,
   "metadata": {},
   "outputs": [],
   "source": []
  }
 ],
 "metadata": {
  "kernelspec": {
   "display_name": "Python 3",
   "language": "python",
   "name": "python3"
  },
  "language_info": {
   "codemirror_mode": {
    "name": "ipython",
    "version": 3
   },
   "file_extension": ".py",
   "mimetype": "text/x-python",
   "name": "python",
   "nbconvert_exporter": "python",
   "pygments_lexer": "ipython3",
   "version": "3.6.5"
  }
 },
 "nbformat": 4,
 "nbformat_minor": 2
}
